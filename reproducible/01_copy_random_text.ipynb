{
 "cells": [
  {
   "cell_type": "markdown",
   "metadata": {},
   "source": [
    "# Basic demo: teaching to copy (random characters)"
   ]
  },
  {
   "cell_type": "code",
   "execution_count": 1,
   "metadata": {},
   "outputs": [],
   "source": [
    "# import src to path\n",
    "import sys\n",
    "import os\n",
    "\n",
    "sys.path.append(\"./src\")\n",
    "sys.path.append(\"../src\")\n",
    "sys.path.append(\"../../src\")\n",
    "\n",
    "if __name__ == \"__main__\":\n",
    "    # try get SLURM JOB ID\n",
    "    try:\n",
    "        job_id = os.environ[\"SLURM_JOB_ID\"]\n",
    "    except:\n",
    "        job_id = \"debug\"\n",
    "    logdir = f\"logs/{job_id}\"\n",
    "    os.makedirs(logdir, exist_ok=True)"
   ]
  },
  {
   "cell_type": "markdown",
   "metadata": {},
   "source": [
    "## Setup and hyperparameters"
   ]
  },
  {
   "cell_type": "code",
   "execution_count": 2,
   "metadata": {},
   "outputs": [],
   "source": [
    "dataset_size = 2000\n",
    "dataset_min_len = 50\n",
    "dataset_max_len = 50\n",
    "seed = 39  # reproducible\n",
    "d_model = 256\n",
    "d_ff = 256\n",
    "n_layers = 1 \n",
    "n_decoder_layers = 1\n",
    "evaluate_on_test = False\n",
    "device = 'cuda'\n",
    "train_epochs = 50\n",
    "lr = 1e-4\n",
    "betas = (0.9, 0.999)"
   ]
  },
  {
   "cell_type": "markdown",
   "metadata": {},
   "source": [
    "## Data"
   ]
  },
  {
   "cell_type": "code",
   "execution_count": null,
   "metadata": {},
   "outputs": [],
   "source": [
    "import preprocessing\n",
    "import ByT5Dataset\n",
    "import torch.utils.data\n",
    "\n",
    "dataset = preprocessing.generate_random_dataset(\n",
    "    rows=dataset_size, min_length=dataset_min_len, max_length=dataset_max_len, space_frequency=.15, seed=seed\n",
    ")\n",
    "generator1 = torch.Generator().manual_seed(seed)\n",
    "train_ex, dev_ex, test_ex = torch.utils.data.random_split(\n",
    "    dataset,\n",
    "    [round(0.8 * dataset_size), round(0.1 * dataset_size), round(0.1 * dataset_size)],\n",
    "    generator=generator1,\n",
    ")\n",
    "train = ByT5Dataset.ByT5CopyDataset(train_ex, max_length=dataset_max_len)\n",
    "dev = ByT5Dataset.ByT5CopyDataset(dev_ex, max_length=dataset_max_len)\n",
    "test = ByT5Dataset.ByT5CopyDataset(test_ex, max_length=dataset_max_len)"
   ]
  },
  {
   "cell_type": "markdown",
   "metadata": {},
   "source": [
    "## Model architecture"
   ]
  },
  {
   "cell_type": "code",
   "execution_count": null,
   "metadata": {},
   "outputs": [],
   "source": [
    "# We want a T5 architecutre but severely reduced in size\n",
    "from transformers import T5ForConditionalGeneration, T5Config, ByT5Tokenizer\n",
    "\n",
    "tokenizer = ByT5Tokenizer()\n",
    "config = T5Config.from_pretrained(\"google/byt5-small\")\n",
    "config.num_layers = n_layers\n",
    "config.num_decoder_layers = n_decoder_layers\n",
    "config.d_model = d_model\n",
    "config.d_ff = d_ff\n",
    "config.num_heads = 2\n",
    "\n",
    "model = T5ForConditionalGeneration(config=config)"
   ]
  },
  {
   "cell_type": "markdown",
   "metadata": {},
   "source": [
    "## Training setup"
   ]
  },
  {
   "cell_type": "code",
   "execution_count": null,
   "metadata": {},
   "outputs": [],
   "source": [
    "from transformers import Seq2SeqTrainer, Seq2SeqTrainingArguments\n",
    "from transformers import (\n",
    "    DataCollatorForSeq2Seq,\n",
    "    Seq2SeqTrainer,\n",
    "    Seq2SeqTrainingArguments,\n",
    ")\n",
    "\n",
    "data_collator = DataCollatorForSeq2Seq(tokenizer, model=model)\n",
    "training_args = Seq2SeqTrainingArguments(\n",
    "    output_dir=logdir + \"/output\",\n",
    "    evaluation_strategy=\"epoch\",\n",
    "    num_train_epochs=train_epochs,\n",
    "    per_device_train_batch_size=32,\n",
    "    per_device_eval_batch_size=32,\n",
    "    # accumulate gradients to simulate higher batch size\n",
    "    gradient_accumulation_steps=4,\n",
    "    save_total_limit=0,\n",
    "    predict_with_generate=True,\n",
    "    push_to_hub=False,\n",
    "    logging_dir=logdir,\n",
    ")\n",
    "optim = torch.optim.Adam(model.parameters(), lr=lr, betas=betas)"
   ]
  },
  {
   "cell_type": "markdown",
   "metadata": {},
   "source": [
    "## Training"
   ]
  },
  {
   "cell_type": "code",
   "execution_count": null,
   "metadata": {},
   "outputs": [],
   "source": [
    "trainer = Seq2SeqTrainer(\n",
    "    model=model,\n",
    "    args=training_args,\n",
    "    train_dataset=train,\n",
    "    eval_dataset=dev,\n",
    "    data_collator=data_collator,\n",
    "    tokenizer=tokenizer,\n",
    "    optimizers=(optim, None),\n",
    ")\n",
    "\n",
    "trainer.train()\n",
    "trainer.save_model(logdir + \"/model\")"
   ]
  },
  {
   "cell_type": "markdown",
   "metadata": {},
   "source": [
    "## Evaluation"
   ]
  },
  {
   "cell_type": "code",
   "execution_count": null,
   "metadata": {},
   "outputs": [],
   "source": [
    "if evaluate_on_test:\n",
    "    pass\n",
    "else:\n",
    "    test = dev"
   ]
  },
  {
   "cell_type": "code",
   "execution_count": null,
   "metadata": {},
   "outputs": [],
   "source": [
    "import numpy as np\n",
    "from utils import print_diffs\n",
    "for index in range(50):\n",
    "    preds = model.generate(input_ids=torch.tensor(test[index][\"input_ids\"]), max_length=dataset_max_len).to(device).view(1,-1)\n",
    "    generated = tokenizer.decode(np.array(preds.cpu()[0]))\n",
    "    expected = tokenizer.decode(np.array(test[index][\"labels\"]))\n",
    "    print_diffs(expected, generated)"
   ]
  }
 ],
 "metadata": {
  "kernelspec": {
   "display_name": "enigmavenv",
   "language": "python",
   "name": "python3"
  },
  "language_info": {
   "codemirror_mode": {
    "name": "ipython",
    "version": 3
   },
   "file_extension": ".py",
   "mimetype": "text/x-python",
   "name": "python",
   "nbconvert_exporter": "python",
   "pygments_lexer": "ipython3",
   "version": "3.10.12"
  },
  "orig_nbformat": 4
 },
 "nbformat": 4,
 "nbformat_minor": 2
}
