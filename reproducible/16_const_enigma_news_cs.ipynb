{
 "cells": [
  {
   "cell_type": "markdown",
   "id": "be0ed4e9",
   "metadata": {},
   "source": [
    "# Enigma with a constant setting on czech news dataset"
   ]
  },
  {
   "cell_type": "code",
   "execution_count": 2,
   "id": "e0754331",
   "metadata": {},
   "outputs": [],
   "source": [
    "# import src to path\n",
    "import sys\n",
    "import os\n",
    "\n",
    "sys.path.append(\"./enigma-transformed/src\")\n",
    "sys.path.append(\"./src\")\n",
    "sys.path.append(\"../src\")\n",
    "sys.path.append(\"../../src\")\n",
    "\n",
    "if __name__ == \"__main__\":\n",
    "    # try get SLURM JOB ID\n",
    "    try:\n",
    "        job_id = os.environ[\"SLURM_JOB_ID\"]\n",
    "    except:\n",
    "        job_id = \"debug\"\n",
    "    logdir = f\"logs/slurm_{job_id}\"\n",
    "    os.makedirs(logdir, exist_ok=True)\n",
    "\n",
    "\n",
    "# ## Setup and hyperparameters"
   ]
  },
  {
   "cell_type": "code",
   "execution_count": 3,
   "id": "b7d65cba",
   "metadata": {},
   "outputs": [
    {
     "ename": "RuntimeError",
     "evalue": "Found no NVIDIA driver on your system. Please check that you have an NVIDIA GPU and installed a driver from http://www.nvidia.com/Download/index.aspx",
     "output_type": "error",
     "traceback": [
      "\u001b[0;31m---------------------------------------------------------------------------\u001b[0m",
      "\u001b[0;31mRuntimeError\u001b[0m                              Traceback (most recent call last)",
      "\u001b[1;32m/home/provaja/enigma-transformed/reproducible/16_const_enigma_news_cs.ipynb Cell 3\u001b[0m line \u001b[0;36m1\n\u001b[1;32m     <a href='vscode-notebook-cell://ssh-remote%2Baic/home/provaja/enigma-transformed/reproducible/16_const_enigma_news_cs.ipynb#W2sdnNjb2RlLXJlbW90ZQ%3D%3D?line=10'>11</a>\u001b[0m warmup_ratio \u001b[39m=\u001b[39m \u001b[39m.2\u001b[39m\n\u001b[1;32m     <a href='vscode-notebook-cell://ssh-remote%2Baic/home/provaja/enigma-transformed/reproducible/16_const_enigma_news_cs.ipynb#W2sdnNjb2RlLXJlbW90ZQ%3D%3D?line=12'>13</a>\u001b[0m tartget_batch_size \u001b[39m=\u001b[39m \u001b[39m192\u001b[39m\n\u001b[0;32m---> <a href='vscode-notebook-cell://ssh-remote%2Baic/home/provaja/enigma-transformed/reproducible/16_const_enigma_news_cs.ipynb#W2sdnNjb2RlLXJlbW90ZQ%3D%3D?line=13'>14</a>\u001b[0m batch_size, grad_acc_steps \u001b[39m=\u001b[39m calculate_batch_size(tartget_batch_size, dataset_max_len)\n",
      "File \u001b[0;32m/lnet/aic/personal/provaja/enigma-transformed/reproducible/../src/utils.py:42\u001b[0m, in \u001b[0;36mcalculate_batch_size\u001b[0;34m(target_batch_size, tokens_per_example)\u001b[0m\n\u001b[1;32m     28\u001b[0m \u001b[39mdef\u001b[39;00m \u001b[39mcalculate_batch_size\u001b[39m(\n\u001b[1;32m     29\u001b[0m     target_batch_size: \u001b[39mint\u001b[39m, tokens_per_example: \u001b[39mint\u001b[39m\n\u001b[1;32m     30\u001b[0m ) \u001b[39m-\u001b[39m\u001b[39m>\u001b[39m \u001b[39mtuple\u001b[39m[\u001b[39mint\u001b[39m, \u001b[39mint\u001b[39m]:\n\u001b[1;32m     31\u001b[0m \u001b[39m    \u001b[39m\u001b[39m\"\"\"\u001b[39;00m\n\u001b[1;32m     32\u001b[0m \u001b[39m    Input:\u001b[39;00m\n\u001b[1;32m     33\u001b[0m \u001b[39m        target_batch_size: effective batch size we want to achieve\u001b[39;00m\n\u001b[0;32m   (...)\u001b[0m\n\u001b[1;32m     40\u001b[0m \n\u001b[1;32m     41\u001b[0m \u001b[39m    \"\"\"\u001b[39;00m\n\u001b[0;32m---> 42\u001b[0m     memory_GB \u001b[39m=\u001b[39m torch\u001b[39m.\u001b[39;49mcuda\u001b[39m.\u001b[39;49mmem_get_info()[\u001b[39m0\u001b[39m] \u001b[39m/\u001b[39m\u001b[39m/\u001b[39m (\u001b[39m1024\u001b[39m\u001b[39m*\u001b[39m\u001b[39m*\u001b[39m\u001b[39m3\u001b[39m)\n\u001b[1;32m     44\u001b[0m     reference_chars_per_gb \u001b[39m=\u001b[39m \u001b[39m100\u001b[39m \u001b[39m*\u001b[39m \u001b[39m16\u001b[39m \u001b[39m/\u001b[39m\u001b[39m/\u001b[39m \u001b[39m10\u001b[39m\n\u001b[1;32m     45\u001b[0m     batch_size \u001b[39m=\u001b[39m \u001b[39mmin\u001b[39m(\n\u001b[1;32m     46\u001b[0m         target_batch_size,\n\u001b[1;32m     47\u001b[0m         floor(memory_GB \u001b[39m*\u001b[39m reference_chars_per_gb) \u001b[39m/\u001b[39m\u001b[39m/\u001b[39m tokens_per_example,\n\u001b[1;32m     48\u001b[0m     )\n",
      "File \u001b[0;32m~/enigma-transformed/enigmavenv/lib/python3.10/site-packages/torch/cuda/memory.py:616\u001b[0m, in \u001b[0;36mmem_get_info\u001b[0;34m(device)\u001b[0m\n\u001b[1;32m    603\u001b[0m \u001b[39m\u001b[39m\u001b[39mr\u001b[39m\u001b[39m\"\"\"Returns the global free and total GPU memory occupied for a given\u001b[39;00m\n\u001b[1;32m    604\u001b[0m \u001b[39mdevice using cudaMemGetInfo.\u001b[39;00m\n\u001b[1;32m    605\u001b[0m \n\u001b[0;32m   (...)\u001b[0m\n\u001b[1;32m    613\u001b[0m \u001b[39m    details about GPU memory management.\u001b[39;00m\n\u001b[1;32m    614\u001b[0m \u001b[39m\"\"\"\u001b[39;00m\n\u001b[1;32m    615\u001b[0m \u001b[39mif\u001b[39;00m device \u001b[39mis\u001b[39;00m \u001b[39mNone\u001b[39;00m:\n\u001b[0;32m--> 616\u001b[0m     device \u001b[39m=\u001b[39m torch\u001b[39m.\u001b[39;49mcuda\u001b[39m.\u001b[39;49mcurrent_device()\n\u001b[1;32m    617\u001b[0m device \u001b[39m=\u001b[39m _get_device_index(device)\n\u001b[1;32m    618\u001b[0m \u001b[39mreturn\u001b[39;00m torch\u001b[39m.\u001b[39mcuda\u001b[39m.\u001b[39mcudart()\u001b[39m.\u001b[39mcudaMemGetInfo(device)\n",
      "File \u001b[0;32m~/enigma-transformed/enigmavenv/lib/python3.10/site-packages/torch/cuda/__init__.py:674\u001b[0m, in \u001b[0;36mcurrent_device\u001b[0;34m()\u001b[0m\n\u001b[1;32m    672\u001b[0m \u001b[39mdef\u001b[39;00m \u001b[39mcurrent_device\u001b[39m() \u001b[39m-\u001b[39m\u001b[39m>\u001b[39m \u001b[39mint\u001b[39m:\n\u001b[1;32m    673\u001b[0m \u001b[39m    \u001b[39m\u001b[39mr\u001b[39m\u001b[39m\"\"\"Returns the index of a currently selected device.\"\"\"\u001b[39;00m\n\u001b[0;32m--> 674\u001b[0m     _lazy_init()\n\u001b[1;32m    675\u001b[0m     \u001b[39mreturn\u001b[39;00m torch\u001b[39m.\u001b[39m_C\u001b[39m.\u001b[39m_cuda_getDevice()\n",
      "File \u001b[0;32m~/enigma-transformed/enigmavenv/lib/python3.10/site-packages/torch/cuda/__init__.py:247\u001b[0m, in \u001b[0;36m_lazy_init\u001b[0;34m()\u001b[0m\n\u001b[1;32m    245\u001b[0m \u001b[39mif\u001b[39;00m \u001b[39m'\u001b[39m\u001b[39mCUDA_MODULE_LOADING\u001b[39m\u001b[39m'\u001b[39m \u001b[39mnot\u001b[39;00m \u001b[39min\u001b[39;00m os\u001b[39m.\u001b[39menviron:\n\u001b[1;32m    246\u001b[0m     os\u001b[39m.\u001b[39menviron[\u001b[39m'\u001b[39m\u001b[39mCUDA_MODULE_LOADING\u001b[39m\u001b[39m'\u001b[39m] \u001b[39m=\u001b[39m \u001b[39m'\u001b[39m\u001b[39mLAZY\u001b[39m\u001b[39m'\u001b[39m\n\u001b[0;32m--> 247\u001b[0m torch\u001b[39m.\u001b[39;49m_C\u001b[39m.\u001b[39;49m_cuda_init()\n\u001b[1;32m    248\u001b[0m \u001b[39m# Some of the queued calls may reentrantly call _lazy_init();\u001b[39;00m\n\u001b[1;32m    249\u001b[0m \u001b[39m# we need to just return without initializing in that case.\u001b[39;00m\n\u001b[1;32m    250\u001b[0m \u001b[39m# However, we must not let any *other* threads in!\u001b[39;00m\n\u001b[1;32m    251\u001b[0m _tls\u001b[39m.\u001b[39mis_initializing \u001b[39m=\u001b[39m \u001b[39mTrue\u001b[39;00m\n",
      "\u001b[0;31mRuntimeError\u001b[0m: Found no NVIDIA driver on your system. Please check that you have an NVIDIA GPU and installed a driver from http://www.nvidia.com/Download/index.aspx"
     ]
    }
   ],
   "source": [
    "from utils import calculate_batch_size\n",
    "dataset_size = 100000\n",
    "dataset_min_len = 200\n",
    "dataset_max_len = 200\n",
    "dataset_exclude_len = 50 # don't train and eval on sentences shorter than this\n",
    "seed = 39  # reproducible\n",
    "evaluate_on_test = True \n",
    "device = 'cuda:0'\n",
    "train_epochs = 35\n",
    "lr = 2e-3\n",
    "warmup_ratio = .2\n",
    "\n",
    "tartget_batch_size = 192\n",
    "batch_size, grad_acc_steps = calculate_batch_size(tartget_batch_size, dataset_max_len)\n",
    "\n"
   ]
  },
  {
   "cell_type": "markdown",
   "id": "db0aea5f",
   "metadata": {},
   "source": [
    "\n",
    "## Data"
   ]
  },
  {
   "cell_type": "code",
   "execution_count": null,
   "id": "e82c877d",
   "metadata": {},
   "outputs": [],
   "source": [
    "# 0. (optional) get data and preprocess it\n",
    "import os\n",
    "import src.utils\n",
    "from src.preprocessing import preprocess_file\n",
    "\n",
    "data_path = 'news.2012.cs.shuffled.deduped'\n",
    "if not os.path.exists(data_path):\n",
    "    utils.download_newscrawl(2012,'cs')\n",
    "# preprocess_file(data_path)\n"
   ]
  },
  {
   "cell_type": "code",
   "execution_count": null,
   "id": "1030af22",
   "metadata": {},
   "outputs": [],
   "source": [
    "import ByT5Dataset\n",
    "import torch.utils.data\n",
    "from src.preprocessing import load_dataset, preprocess_text\n",
    "\n",
    "dataset = load_dataset(dataset_size, dataset_min_len, dataset_max_len, data_path, seed, dataset_exclude_len)\n",
    "dataset = [preprocess_text(text) for text in dataset]\n",
    "generator1 = torch.Generator().manual_seed(seed)\n",
    "train_ex, dev_ex, test_ex = torch.utils.data.random_split(\n",
    "    dataset,\n",
    "    [round(0.8 * dataset_size), round(0.1 * dataset_size), round(0.1 * dataset_size)],\n",
    "    generator=generator1,\n",
    ")\n",
    "train = ByT5Dataset.ByT5ConstEnigmaDataset(train_ex, max_length=dataset_max_len)\n",
    "dev = ByT5Dataset.ByT5ConstEnigmaDataset(dev_ex, max_length=dataset_max_len)\n",
    "test = ByT5Dataset.ByT5ConstEnigmaDataset(test_ex, max_length=dataset_max_len)\n",
    "\n"
   ]
  },
  {
   "cell_type": "markdown",
   "id": "39cb3603",
   "metadata": {},
   "source": [
    "\n",
    "## Model architecture"
   ]
  },
  {
   "cell_type": "code",
   "execution_count": null,
   "id": "b130d52d",
   "metadata": {},
   "outputs": [],
   "source": [
    "\n",
    "\n",
    "# We want a T5 architecutre but severely reduced in size\n",
    "from transformers import ByT5Tokenizer, AutoModelForSeq2SeqLM\n",
    "\n",
    "tokenizer = ByT5Tokenizer()\n",
    "model = AutoModelForSeq2SeqLM.from_pretrained(\"google/byt5-small\")\n",
    "\n"
   ]
  },
  {
   "cell_type": "markdown",
   "id": "841a87e6",
   "metadata": {},
   "source": [
    "\n",
    "## Training setup"
   ]
  },
  {
   "cell_type": "code",
   "execution_count": null,
   "id": "f3538f36",
   "metadata": {},
   "outputs": [],
   "source": [
    "\n",
    "\n",
    "from transformers import Seq2SeqTrainer, Seq2SeqTrainingArguments\n",
    "from transformers import (\n",
    "    DataCollatorForSeq2Seq,\n",
    "    Seq2SeqTrainer,\n",
    "    Seq2SeqTrainingArguments,\n",
    ")\n",
    "\n",
    "data_collator = DataCollatorForSeq2Seq(tokenizer, model=model)\n",
    "training_args = Seq2SeqTrainingArguments(\n",
    "    output_dir=logdir + \"/output\",\n",
    "    evaluation_strategy=\"epoch\",\n",
    "    num_train_epochs=train_epochs,\n",
    "    per_device_train_batch_size=batch_size,\n",
    "    per_device_eval_batch_size=batch_size,\n",
    "    # accumulate gradients to simulate higher batch size\n",
    "    gradient_accumulation_steps=grad_acc_steps,\n",
    "    save_total_limit=0,\n",
    "    predict_with_generate=True,\n",
    "    push_to_hub=False,\n",
    "    logging_dir=logdir,\n",
    "    learning_rate=lr,\n",
    "    warmup_ratio=warmup_ratio,\n",
    "    save_steps=10000,\n",
    ")\n",
    "\n"
   ]
  },
  {
   "cell_type": "markdown",
   "metadata": {},
   "source": [
    "\n",
    "## Training"
   ]
  },
  {
   "cell_type": "code",
   "execution_count": null,
   "id": "a5bdf4a9",
   "metadata": {},
   "outputs": [],
   "source": [
    "trainer = Seq2SeqTrainer(\n",
    "    model=model,\n",
    "    args=training_args,\n",
    "    train_dataset=train,\n",
    "    eval_dataset=dev,\n",
    "    data_collator=data_collator,\n",
    "    tokenizer=tokenizer,\n",
    ")\n",
    "\n",
    "trainer.train()\n",
    "trainer.save_model(logdir + \"/model\")"
   ]
  },
  {
   "cell_type": "markdown",
   "id": "851bf9e3",
   "metadata": {},
   "source": [
    "\n",
    "## Evaluation"
   ]
  },
  {
   "cell_type": "code",
   "execution_count": null,
   "id": "b635a4ea",
   "metadata": {
    "lines_to_next_cell": 2
   },
   "outputs": [],
   "source": [
    "\n",
    "if evaluate_on_test:\n",
    "    pass\n",
    "else:\n",
    "    test = dev"
   ]
  },
  {
   "cell_type": "code",
   "execution_count": null,
   "id": "ddae00df",
   "metadata": {
    "lines_to_next_cell": 2
   },
   "outputs": [],
   "source": [
    "from utils import levensthein_distance, print_avg_median_mode_error\n",
    "from transformers import pipeline, logging\n",
    "logging.set_verbosity(logging.ERROR)\n",
    "\n",
    "\n",
    "error_counts = []\n",
    "translate = pipeline(\"translation\", model=model, tokenizer=tokenizer, device=device)\n",
    "for index in range(len(test)):\n",
    "    generated = translate(test[index][\"input_text\"], max_length=(dataset_max_len+1)*2)[0][\"translation_text\"]\n",
    "    error_counts.append(levensthein_distance(generated, test[index][\"output_text\"]))\n",
    "    if error_counts[-1] > 0:\n",
    "        print(f\"Example {index}, error count {error_counts[-1]}\")\n",
    "        print(\"In :\", test[index][\"input_text\"])\n",
    "        print(\"Gen:\", generated)\n",
    "        expected = test[index][\"output_text\"]\n",
    "        print(\"Exp:\", expected)\n",
    "    else:\n",
    "        print(f\"Example {index} OK\")\n",
    "    print(\"-----------------------\")\n",
    "\n",
    "print(f\"{error_counts=}\")\n",
    "print_avg_median_mode_error(error_counts)\n"
   ]
  }
 ],
 "metadata": {
  "jupytext": {
   "cell_metadata_filter": "-all",
   "encoding": "# coding: utf-8",
   "executable": "/usr/bin/env python",
   "main_language": "python",
   "notebook_metadata_filter": "-all"
  },
  "kernelspec": {
   "display_name": "enigmavenv",
   "language": "python",
   "name": "python3"
  },
  "language_info": {
   "codemirror_mode": {
    "name": "ipython",
    "version": 3
   },
   "file_extension": ".py",
   "mimetype": "text/x-python",
   "name": "python",
   "nbconvert_exporter": "python",
   "pygments_lexer": "ipython3",
   "version": "3.10.12"
  }
 },
 "nbformat": 4,
 "nbformat_minor": 5
}
