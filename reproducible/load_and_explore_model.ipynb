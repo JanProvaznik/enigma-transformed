{
 "cells": [
  {
   "cell_type": "markdown",
   "metadata": {},
   "source": [
    "# Exploring models that are already trained"
   ]
  },
  {
   "cell_type": "code",
   "execution_count": 1,
   "metadata": {},
   "outputs": [],
   "source": [
    "# import src to path\n",
    "import sys\n",
    "import os\n",
    "\n",
    "sys.path.append(\"./src\")\n",
    "sys.path.append(\"../src\")\n",
    "sys.path.append(\"../../src\")\n",
    "\n",
    "if __name__ == \"__main__\":\n",
    "    # try get SLURM JOB ID\n",
    "    try:\n",
    "        job_id = os.environ[\"SLURM_JOB_ID\"]\n",
    "    except:\n",
    "        job_id = \"debug\"\n",
    "    logdir = f\"logs/slurm_{job_id}\"\n",
    "    os.makedirs(logdir, exist_ok=True)"
   ]
  },
  {
   "cell_type": "markdown",
   "metadata": {},
   "source": [
    "## Setup and hyperparameters"
   ]
  },
  {
   "cell_type": "code",
   "execution_count": 2,
   "metadata": {},
   "outputs": [],
   "source": [
    "dataset_size = 2000\n",
    "dataset_min_len = 50\n",
    "dataset_max_len = 50\n",
    "seed = 39  # reproducible\n",
    "d_model = 256\n",
    "d_ff = 256\n",
    "n_layers = 1 \n",
    "n_decoder_layers = 1\n",
    "evaluate_on_test = False\n",
    "device = 'cuda'\n",
    "train_epochs = 50\n",
    "lr = 1e-4\n",
    "betas = (0.9, 0.999)"
   ]
  },
  {
   "cell_type": "markdown",
   "metadata": {},
   "source": [
    "## Data"
   ]
  },
  {
   "cell_type": "code",
   "execution_count": null,
   "metadata": {},
   "outputs": [],
   "source": [
    "import preprocessing\n",
    "import ByT5Dataset\n",
    "import torch.utils.data\n",
    "\n",
    "dataset = preprocessing.generate_random_dataset(\n",
    "    rows=dataset_size, min_length=dataset_min_len, max_length=dataset_max_len, space_frequency=.15, seed=seed\n",
    ")\n",
    "generator1 = torch.Generator().manual_seed(seed)\n",
    "train_ex, dev_ex, test_ex = torch.utils.data.random_split(\n",
    "    dataset,\n",
    "    [round(0.8 * dataset_size), round(0.1 * dataset_size), round(0.1 * dataset_size)],\n",
    "    generator=generator1,\n",
    ")\n",
    "train = ByT5Dataset.ByT5CopyDataset(train_ex, max_length=dataset_max_len)\n",
    "dev = ByT5Dataset.ByT5CopyDataset(dev_ex, max_length=dataset_max_len)\n",
    "test = ByT5Dataset.ByT5CopyDataset(test_ex, max_length=dataset_max_len)"
   ]
  },
  {
   "cell_type": "markdown",
   "metadata": {},
   "source": [
    "## Model architecture"
   ]
  },
  {
   "cell_type": "code",
   "execution_count": null,
   "metadata": {},
   "outputs": [],
   "source": [
    "from transformers import AutoModel, AutoTokenizer, T5ForConditionalGeneration, AutoModelForSeq2SeqLM\n",
    "\n",
    "model_path = \"logs/slurm_16587/model/\"\n",
    "# model_path = \"logs/slurm_16581/output/checkpoint-500\"\n",
    "tokenizer = AutoTokenizer.from_pretrained(model_path)\n",
    "model: AutoModelForSeq2SeqLM = AutoModelForSeq2SeqLM.from_pretrained(model_path)\n"
   ]
  },
  {
   "cell_type": "markdown",
   "metadata": {},
   "source": [
    "## Evaluation"
   ]
  },
  {
   "cell_type": "code",
   "execution_count": null,
   "metadata": {},
   "outputs": [],
   "source": [
    "if evaluate_on_test:\n",
    "    pass\n",
    "else:\n",
    "    test = dev"
   ]
  },
  {
   "cell_type": "code",
   "execution_count": null,
   "metadata": {},
   "outputs": [],
   "source": [
    "import numpy as np\n",
    "from utils import print_diffs\n",
    "generation_config = {\n",
    "    \"max_length\": dataset_max_len,  # Set the maximum length of the generated output\n",
    "    # \"num_beams\": 4,  # Set the number of beams for beam search\n",
    "}\n",
    "for index in range(len(test)):\n",
    "    preds = model.generate(test[index][\"input_ids\"].unsqueeze(0),**generation_config)\n",
    "    # remove the first token of preds[0]\n",
    "    generated = tokenizer.decode(preds[0][1:])\n",
    "\n",
    "    print(\"Input:\", test[index][\"input_text\"])\n",
    "    print(\"Generated:\", generated)\n",
    "    expected = test[index][\"output_text\"]\n",
    "    print(\"Expected:\", expected)\n",
    "    print(\"-----------------------\")\n",
    "    print_diffs(expected, generated)"
   ]
  }
 ],
 "metadata": {
  "kernelspec": {
   "display_name": "enigmavenv",
   "language": "python",
   "name": "python3"
  },
  "language_info": {
   "codemirror_mode": {
    "name": "ipython",
    "version": 3
   },
   "file_extension": ".py",
   "mimetype": "text/x-python",
   "name": "python",
   "nbconvert_exporter": "python",
   "pygments_lexer": "ipython3",
   "version": "3.10.12"
  },
  "orig_nbformat": 4
 },
 "nbformat": 4,
 "nbformat_minor": 2
}
