{
 "cells": [
  {
   "cell_type": "markdown",
   "metadata": {},
   "source": [
    "# static data filter"
   ]
  },
  {
   "cell_type": "code",
   "execution_count": 12,
   "metadata": {},
   "outputs": [],
   "source": [
    "import pandas as pd\n",
    "from src.preprocessing import weird\n",
    "# file path\n",
    "lang='cs'\n",
    "file_path = f'news.2013.{lang}.trainlen.200.merged.csv'\n",
    "# file_path = 'minidataset.csv'\n",
    "# load\n",
    "df = pd.read_csv(file_path)\n",
    "src='weird'\n",
    "fn = weird\n",
    "\n",
    "# lang\n",
    "\n"
   ]
  },
  {
   "cell_type": "code",
   "execution_count": 13,
   "metadata": {},
   "outputs": [],
   "source": [
    "df['weird'] = df['original_text'].apply(fn)"
   ]
  },
  {
   "cell_type": "code",
   "execution_count": 14,
   "metadata": {},
   "outputs": [
    {
     "name": "stdout",
     "output_type": "stream",
     "text": [
      "weird\n",
      "False    895066\n",
      "True       3436\n",
      "Name: count, dtype: int64\n"
     ]
    }
   ],
   "source": [
    "# print distribution of weird\n",
    "print(df['weird'].value_counts())\n"
   ]
  },
  {
   "cell_type": "code",
   "execution_count": 16,
   "metadata": {},
   "outputs": [
    {
     "name": "stdout",
     "output_type": "stream",
     "text": [
      "Index(['original_text', 'text', 'gpt2_tokens_per_char', 'lang',\n",
      "       'unigram_js_divergence', 'bigram_js_divergence', 'weird'],\n",
      "      dtype='object')\n"
     ]
    }
   ],
   "source": [
    "# print cols\n",
    "print(df.columns)"
   ]
  },
  {
   "cell_type": "code",
   "execution_count": 11,
   "metadata": {},
   "outputs": [],
   "source": [
    "df.to_csv(file_path, index=False)"
   ]
  }
 ],
 "metadata": {
  "kernelspec": {
   "display_name": "enigmavenv",
   "language": "python",
   "name": "python3"
  },
  "language_info": {
   "codemirror_mode": {
    "name": "ipython",
    "version": 3
   },
   "file_extension": ".py",
   "mimetype": "text/x-python",
   "name": "python",
   "nbconvert_exporter": "python",
   "pygments_lexer": "ipython3",
   "version": "3.10.12"
  }
 },
 "nbformat": 4,
 "nbformat_minor": 2
}
