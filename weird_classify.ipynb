{
 "cells": [
  {
   "cell_type": "code",
   "execution_count": 1,
   "metadata": {},
   "outputs": [],
   "source": [
    "import pandas as pd\n",
    "from src.preprocessing import weird\n",
    "# file path\n",
    "file_path = 'news.2013.en.trainlen.200.merged.csv'\n",
    "# file_path = 'minidataset.csv'\n",
    "# load\n",
    "df = pd.read_csv(file_path)\n",
    "src='weird'\n",
    "fn = weird\n",
    "df['weird'] = df['original_text'].apply(fn)\n",
    "\n",
    "# lang\n",
    "\n",
    "\n",
    "df.to_csv(file_path, index=False)"
   ]
  },
  {
   "cell_type": "code",
   "execution_count": null,
   "metadata": {},
   "outputs": [],
   "source": [
    "exit(0)"
   ]
  },
  {
   "cell_type": "code",
   "execution_count": null,
   "metadata": {},
   "outputs": [],
   "source": [
    "# now I wanna detect if lang is appropriate\n",
    "lang = 'de'\n",
    "import fasttext\n"
   ]
  }
 ],
 "metadata": {
  "kernelspec": {
   "display_name": "enigmavenv",
   "language": "python",
   "name": "python3"
  },
  "language_info": {
   "codemirror_mode": {
    "name": "ipython",
    "version": 3
   },
   "file_extension": ".py",
   "mimetype": "text/x-python",
   "name": "python",
   "nbconvert_exporter": "python",
   "pygments_lexer": "ipython3",
   "version": "3.10.12"
  }
 },
 "nbformat": 4,
 "nbformat_minor": 2
}
