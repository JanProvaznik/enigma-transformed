{
 "cells": [
  {
   "cell_type": "code",
   "execution_count": 2,
   "metadata": {},
   "outputs": [],
   "source": [
    "import torch\n",
    "import torch.utils.data\n",
    "from transformers import AutoModelForSeq2SeqLM, AutoTokenizer, Trainer, TrainingArguments, AutoConfig, T5Model, T5Tokenizer\n",
    "import random"
   ]
  },
  {
   "cell_type": "code",
   "execution_count": 9,
   "metadata": {},
   "outputs": [
    {
     "name": "stdout",
     "output_type": "stream",
     "text": [
      "1736552179\n",
      "120.5360691179489\n",
      "0.1335448846105712\n"
     ]
    }
   ],
   "source": [
    "sumlen = 0\n",
    "lines = 0\n",
    "lineslongerthan256 = 0\n",
    "with open (\"news.2012.en.shuffled.deduped\", \"r\") as myfile:\n",
    "    for line in myfile:\n",
    "        sumlen += len(line)\n",
    "        lines += 1\n",
    "        if len(line) > 200:\n",
    "            lineslongerthan256 += 1\n",
    "        # print(len(line))\n",
    "        \n",
    "print(sumlen)\n",
    "print(sumlen/lines)\n",
    "print(lineslongerthan256/lines)"
   ]
  },
  {
   "cell_type": "code",
   "execution_count": 17,
   "metadata": {},
   "outputs": [],
   "source": [
    "import torch\n",
    "from torch.utils.data import Dataset\n",
    "from typing import List, Tuple\n",
    "from transformers import PreTrainedTokenizerFast\n",
    "\n",
    "class EnigmaDataset(Dataset):\n",
    "    def __init__(self, data_file: str, encrypt_function, tokenizer: PreTrainedTokenizerFast, max_length: int = 512, max_size:int = 10000) -> None:\n",
    "        self.data = []\n",
    "        self.encrypt_function = encrypt_function\n",
    "        self.tokenizer = tokenizer\n",
    "        self.max_length = max_length\n",
    "\n",
    "        with open(data_file, \"r\") as file:\n",
    "            i = 0\n",
    "            for line in file:\n",
    "                text = line.strip()\n",
    "                encrypted_text = self.encrypt_function(text)\n",
    "                tokenized_encrypted_text = self.tokenizer.encode(encrypted_text, max_length=self.max_length, padding='max_length', truncation=True)\n",
    "                tokenized_text = self.tokenizer.encode(text, max_length=self.max_length, padding='max_length', truncation=True)\n",
    "                self.data.append((tokenized_encrypted_text, tokenized_text))\n",
    "                i+=1\n",
    "                if i>=max_size:\n",
    "                    break\n",
    "\n",
    "    def __len__(self) -> int:\n",
    "        return len(self.data)\n",
    "\n",
    "    def __getitem__(self, index: int) -> Tuple[List[int], List[int]]:\n",
    "        return self.data[index]"
   ]
  },
  {
   "cell_type": "code",
   "execution_count": 18,
   "metadata": {},
   "outputs": [],
   "source": [
    "from typing import List, Dict\n",
    "from transformers.data.data_collator import DataCollator\n",
    "\n",
    "class CustomDataCollator(object):\n",
    "    def __call__(self, batch: List[Tuple[List[int], List[int]]]) -> Dict[str, torch.Tensor]:\n",
    "        input_ids, labels = zip(*batch)\n",
    "        input_ids = torch.tensor(input_ids, dtype=torch.long)\n",
    "        labels = torch.tensor(labels, dtype=torch.long)\n",
    "        return {\"input_ids\": input_ids, \"labels\": labels}\n"
   ]
  },
  {
   "cell_type": "code",
   "execution_count": 13,
   "metadata": {},
   "outputs": [],
   "source": [
    "from enigma.machine import EnigmaMachine\n",
    "\n",
    "# set machine initial starting position\n",
    "def encrypt_all_the_same(text):\n",
    "    machine = EnigmaMachine.from_key_sheet(\n",
    "       rotors='I II III',\n",
    "       reflector='B',\n",
    "       ring_settings=[0, 0, 0],\n",
    "       plugboard_settings=None)\n",
    "    start_display = 'ABC'\n",
    "    machine.set_display(start_display)\n",
    "    return f\"{start_display}{machine.process_text(text)}\""
   ]
  },
  {
   "cell_type": "code",
   "execution_count": 19,
   "metadata": {},
   "outputs": [
    {
     "ename": "",
     "evalue": "",
     "output_type": "error",
     "traceback": [
      "\u001b[1;31mThe Kernel crashed while executing code in the the current cell or a previous cell. Please review the code in the cell(s) to identify a possible cause of the failure. Click <a href='https://aka.ms/vscodeJupyterKernelCrash'>here</a> for more info. View Jupyter <a href='command:jupyter.viewOutput'>log</a> for further details."
     ]
    }
   ],
   "source": [
    "from transformers import ByT5Tokenizer\n",
    "data_file = \"news.2012.en.shuffled.deduped\"\n",
    "tokenizer = ByT5Tokenizer.from_pretrained(\"google/byt5-small\")\n",
    "enigma_dataset = EnigmaDataset(data_file, encrypt_all_the_same, tokenizer, max_length=200)\n",
    "\n",
    "# Access an example pair from the dataset\n",
    "encrypted_text, original_text = enigma_dataset[0]"
   ]
  },
  {
   "cell_type": "code",
   "execution_count": null,
   "metadata": {},
   "outputs": [],
   "source": [
    "from torch.utils.data import random_split\n",
    "from transformers import T5ForConditionalGeneration, T5Config, Seq2SeqTrainingArguments, Seq2SeqTrainer, DataCollatorForSeq2Seq\n",
    "\n",
    "train_dataset, val_dataset, test = random_split(enigma_dataset, [int(len(enigma_dataset)*0.8), int(len(enigma_dataset)*0.1), int(len(enigma_dataset)*0.1)])\n",
    "\n",
    "config = T5Config.from_pretrained(\"google/byt5-small\")\n",
    "config.tie_word_embeddings = False\n",
    "\n",
    "model = T5ForConditionalGeneration(config)\n",
    "\n",
    "# Create training arguments and data collator\n",
    "training_args = Seq2SeqTrainingArguments(\n",
    "    output_dir=\"byt5_output\",\n",
    "    num_train_epochs=3,\n",
    "    per_device_train_batch_size=8,\n",
    "    per_device_eval_batch_size=8,\n",
    "    save_steps=10_000,\n",
    "    save_total_limit=2,\n",
    "    evaluation_strategy=\"epoch\",\n",
    ")\n",
    "\n",
    "data_collator = CustomDataCollator()\n",
    "\n",
    "# Create trainer and train the model\n",
    "trainer = Seq2SeqTrainer(\n",
    "    model=model,\n",
    "    args=training_args,\n",
    "    train_dataset=train_dataset,\n",
    "    eval_dataset=val_dataset,\n",
    "    data_collator=data_collator,\n",
    "    tokenizer=tokenizer,\n",
    ")\n",
    "\n",
    "trainer.train()\n",
    "\n"
   ]
  },
  {
   "cell_type": "code",
   "execution_count": null,
   "metadata": {},
   "outputs": [],
   "source": [
    "# evaluate on the test set\n",
    "trainer.evaluate(test_dataset=test)\n",
    "\n",
    "model = T5ForConditionalGeneration.from_pretrained(\"byt5_output/checkpoint-10000\")\n",
    "for i in range(10):\n",
    "    tokenized_encrypted_text, tokenized_gold_label = test[i]\n",
    "    input_ids = torch.tensor(tokenized_encrypted_text, dtype=torch.long).unsqueeze(0)\n",
    "\n",
    "    with torch.no_grad():\n",
    "        outputs = trainer.generate(input_ids)\n",
    "\n",
    "    predicted_text = tokenizer.decode(outputs[0], skip_special_tokens=True)\n",
    "    gold_label = tokenizer.decode(tokenized_gold_label, skip_special_tokens=True)\n",
    "\n",
    "    print(f\"Example {i + 1}:\")\n",
    "    print(f\"Predicted: {predicted_text}\")\n",
    "    print(f\"Gold Label: {gold_label}\")\n",
    "    print(\"=\" * 80)"
   ]
  }
 ],
 "metadata": {
  "kernelspec": {
   "display_name": "enigmavenv",
   "language": "python",
   "name": "python3"
  },
  "language_info": {
   "codemirror_mode": {
    "name": "ipython",
    "version": 3
   },
   "file_extension": ".py",
   "mimetype": "text/x-python",
   "name": "python",
   "nbconvert_exporter": "python",
   "pygments_lexer": "ipython3",
   "version": "3.10.6"
  },
  "orig_nbformat": 4,
  "vscode": {
   "interpreter": {
    "hash": "fafbcaede61fa943ff48ece474f73b0ddc94017be1434f80614d611209978db1"
   }
  }
 },
 "nbformat": 4,
 "nbformat_minor": 2
}
