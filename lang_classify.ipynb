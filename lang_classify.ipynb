{
 "cells": [
  {
   "cell_type": "code",
   "execution_count": 8,
   "metadata": {},
   "outputs": [
    {
     "name": "stderr",
     "output_type": "stream",
     "text": [
      "Warning : `load_model` does not return WordVectorModel or SupervisedModel any more, but a `FastText` object which is very similar.\n"
     ]
    }
   ],
   "source": [
    "# file_path = 'minidataset.csv'\n",
    "lang = 'cs'\n",
    "file_path = 'news.2013.cs.trainlen.200.bpe.csv'\n",
    "\n",
    "\n",
    "col = 'original_text'\n",
    "\n",
    "# load with pandas\n",
    "import pandas as pd\n",
    "df = pd.read_csv(file_path)\n",
    "\n",
    "from src.utils import create_detect_language\n",
    "\n",
    "detect_language = create_detect_language(lang)\n"
   ]
  },
  {
   "cell_type": "code",
   "execution_count": 9,
   "metadata": {},
   "outputs": [],
   "source": [
    "df['lang'] = df[col].apply(detect_language)"
   ]
  },
  {
   "cell_type": "code",
   "execution_count": 10,
   "metadata": {},
   "outputs": [
    {
     "name": "stdout",
     "output_type": "stream",
     "text": [
      "lang\n",
      "True     850701\n",
      "False     47801\n",
      "Name: count, dtype: int64\n"
     ]
    }
   ],
   "source": [
    "# print distribution of values in lang\n",
    "print(df['lang'].value_counts())\n"
   ]
  },
  {
   "cell_type": "code",
   "execution_count": 11,
   "metadata": {},
   "outputs": [],
   "source": [
    "# save to the path\n",
    "df.to_csv(file_path, index=False)"
   ]
  },
  {
   "cell_type": "code",
   "execution_count": 12,
   "metadata": {},
   "outputs": [
    {
     "name": "stdout",
     "output_type": "stream",
     "text": [
      "7      Ramot, ktorý sa podľa izraelských úradov ofici...\n",
      "14     Účastníci vlaňajšej mierovej konferencie o Sýr...\n",
      "26     Talianske médiá v tejto súvislosti pripomínajú...\n",
      "38     \"Vzhľadom na obmedzené finančné zdroje robíme ...\n",
      "51     Hokejisti Slovana Bratislava neuspeli ani v št...\n",
      "56     Po prvé, za neexistencie jednotného celosvetov...\n",
      "61     V dokumente sú popísané také podrobnosti ako n...\n",
      "64     Izrael v utorok večer potvrdil, že jeho územie...\n",
      "79     Agenti CIA totiž o jednom z útočiacej dvojice ...\n",
      "105    Rovnako ako v prvom dueli sa proti svojmu býva...\n",
      "Name: original_text, dtype: object\n"
     ]
    }
   ],
   "source": [
    "\n",
    "# print some rows that have False in lang\n",
    "print(df[df['lang'] == False][col].head(10))"
   ]
  }
 ],
 "metadata": {
  "kernelspec": {
   "display_name": "enigmavenv",
   "language": "python",
   "name": "python3"
  },
  "language_info": {
   "codemirror_mode": {
    "name": "ipython",
    "version": 3
   },
   "file_extension": ".py",
   "mimetype": "text/x-python",
   "name": "python",
   "nbconvert_exporter": "python",
   "pygments_lexer": "ipython3",
   "version": "3.10.12"
  }
 },
 "nbformat": 4,
 "nbformat_minor": 2
}
